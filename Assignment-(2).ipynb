{
 "cells": [
  {
   "cell_type": "markdown",
   "id": "4e6fd7cf",
   "metadata": {},
   "source": [
    "## TYPES OF INHERITANCE IN PYTHON"
   ]
  },
  {
   "cell_type": "markdown",
   "id": "84902229",
   "metadata": {},
   "source": [
    "## 1 Single Inheritance."
   ]
  },
  {
   "cell_type": "code",
   "execution_count": 2,
   "id": "9d09f633",
   "metadata": {},
   "outputs": [
    {
     "name": "stdout",
     "output_type": "stream",
     "text": [
      "The funciton is in Parent class.\n",
      "The function is in Child class.\n"
     ]
    }
   ],
   "source": [
    "class parent:\n",
    "    def function1(self):\n",
    "        print(\"The funciton is in Parent class.\")\n",
    "class children(parent):\n",
    "    def function2(self):\n",
    "        print(\"The function is in Child class.\")\n",
    "obj = children()\n",
    "obj.function1()\n",
    "obj.function2()"
   ]
  },
  {
   "cell_type": "markdown",
   "id": "2a09c246",
   "metadata": {},
   "source": [
    "## 2 Multiple Inheritance."
   ]
  },
  {
   "cell_type": "code",
   "execution_count": null,
   "id": "d967abd3",
   "metadata": {},
   "outputs": [],
   "source": [
    "class Mother:\n",
    "    mothername = \"\"\n",
    " \n",
    "    def mother(self):\n",
    "        print(self.mothername)\n",
    " \n",
    " \n",
    "class Father:\n",
    "    fathername = \"\"\n",
    " \n",
    "    def father(self):\n",
    "        print(self.fathername)\n",
    " \n",
    " \n",
    "class Son(Mother, Father):\n",
    "    def parents(self):\n",
    "        print(\"Father's Name:\", self.fathername)\n",
    "        print(\"Mother's Name:\", self.mothername)\n",
    " \n",
    " \n",
    "s1 = Son()\n",
    "s1.fathername = \"Kum\"\n",
    "s1.mothername = \"\"\n",
    "s1.parents()"
   ]
  },
  {
   "cell_type": "markdown",
   "id": "8de71e53",
   "metadata": {},
   "source": [
    "## 3 Multi-Level Inheritance."
   ]
  },
  {
   "cell_type": "code",
   "execution_count": null,
   "id": "c4075e58",
   "metadata": {},
   "outputs": [],
   "source": [
    "class Grandfather:\n",
    " \n",
    "    def __init__(self, grandfathername):\n",
    "        self.grandfathername = grandfathername\n",
    " \n",
    " \n",
    "class Father(Grandfather):\n",
    "    def __init__(self, fathername, grandfathername):\n",
    "        self.fathername = fathername\n",
    "\n",
    "        Grandfather.__init__(self, grandfathername)\n",
    " \n",
    "class Son(Father):\n",
    "    def __init__(self, sonname, fathername, grandfathername):\n",
    "        self.sonname = sonname\n",
    " \n",
    "        \n",
    "        Father.__init__(self, fathername, grandfathername)\n",
    " \n",
    "    def print_name(self):\n",
    "        print(\"Grandfather's name :\", self.grandfathername)\n",
    "        print(\"Father's name :\", self.fathername)\n",
    "        print(\"Son's name :\", self.sonname)\n",
    " \n",
    " \n",
    "\n",
    "s1 = Son()\n",
    "print(s1.grandfathername)\n",
    "s1.print_name()"
   ]
  },
  {
   "cell_type": "markdown",
   "id": "48b6a2a8",
   "metadata": {},
   "source": [
    "## 4 Hierarchical Inheritance."
   ]
  },
  {
   "cell_type": "code",
   "execution_count": 3,
   "id": "4729ba46",
   "metadata": {},
   "outputs": [
    {
     "name": "stdout",
     "output_type": "stream",
     "text": [
      "The function is in Parent class.\n",
      "The function is in Second Child.\n",
      "The function is in Parent class.\n",
      "The function is in First Child.\n"
     ]
    }
   ],
   "source": [
    "class Parent:\n",
    "    def func1(self):\n",
    "        print(\"The function is in Parent class.\")\n",
    " \n",
    " \n",
    "class Child1(Parent):\n",
    "    def func2(self):\n",
    "        print(\"The function is in Second Child.\")\n",
    " \n",
    " \n",
    "class Child2(Parent):\n",
    "    def func3(self):\n",
    "        print(\"The function is in First Child.\")\n",
    " \n",
    "object1 = Child1()\n",
    "object2 = Child2()\n",
    "object1.func1()\n",
    "object1.func2()\n",
    "object2.func1()\n",
    "object2.func3()"
   ]
  },
  {
   "cell_type": "markdown",
   "id": "a5600654",
   "metadata": {},
   "source": [
    "## 5 Hybrid Inheritance."
   ]
  },
  {
   "cell_type": "code",
   "execution_count": 4,
   "id": "85ef6374",
   "metadata": {},
   "outputs": [
    {
     "name": "stdout",
     "output_type": "stream",
     "text": [
      "The function is in College.\n",
      "The function is in Student 1. \n"
     ]
    }
   ],
   "source": [
    "class School:\n",
    "    def func1(self):\n",
    "        print(\"The function is in College.\")\n",
    " \n",
    " \n",
    "class Student1(School):\n",
    "    def func2(self):\n",
    "        print(\"The function is in Student 1. \")\n",
    " \n",
    " \n",
    "class Student2(School):\n",
    "    def func3(self):\n",
    "        print(\"The function is in Student 2.\")\n",
    " \n",
    " \n",
    "class Student3(Student1, School):\n",
    "    def func4(self):\n",
    "        print(\"The function is in Student 3.\")\n",
    " \n",
    "object = Student3()\n",
    "object.func1()\n",
    "object.func2()"
   ]
  },
  {
   "cell_type": "markdown",
   "id": "72e3dc8a",
   "metadata": {},
   "source": [
    "# EXCEPTION HANDLING IN PYTHON."
   ]
  },
  {
   "cell_type": "markdown",
   "id": "c6459f86",
   "metadata": {},
   "source": [
    "## 1 ZeroDivisionError."
   ]
  },
  {
   "cell_type": "code",
   "execution_count": 5,
   "id": "1bdd4ab6",
   "metadata": {},
   "outputs": [
    {
     "name": "stdout",
     "output_type": "stream",
     "text": [
      "An error occurred !!\n",
      "10000\n"
     ]
    }
   ],
   "source": [
    "marks = 10000\n",
    "try:\n",
    "    a = marks / 0 \n",
    "    print(a)\n",
    "except:\n",
    "    print (\"An error occurred !!\")\n",
    "    print(marks)"
   ]
  },
  {
   "cell_type": "markdown",
   "id": "f8622076",
   "metadata": {},
   "source": [
    "## 2 Unexpected Indent."
   ]
  },
  {
   "cell_type": "code",
   "execution_count": 7,
   "id": "c03444d3",
   "metadata": {},
   "outputs": [
    {
     "name": "stdout",
     "output_type": "stream",
     "text": [
      "First element = 2\n",
      "An error occurred !!\n"
     ]
    }
   ],
   "source": [
    "a = [1, 2, 3]\n",
    "try: \n",
    "    print (\"First element = %d\" %(a[1]))\n",
    "  \n",
    "    # Throws error since there are only 3 elements in array\n",
    "    print (\"Fourth element = %d\" %(a[3]))\n",
    "  \n",
    "except:\n",
    "    print (\"An error occurred !!\")"
   ]
  },
  {
   "cell_type": "markdown",
   "id": "1787baf2",
   "metadata": {},
   "source": [
    "## 3 Value Error."
   ]
  },
  {
   "cell_type": "code",
   "execution_count": 8,
   "id": "9ba0066e",
   "metadata": {},
   "outputs": [
    {
     "name": "stdout",
     "output_type": "stream",
     "text": [
      "Please enter a number: skjf\n",
      "Invalid Number! Please Enter a Number\n",
      "Please enter a number: 2\n"
     ]
    }
   ],
   "source": [
    "while True:\n",
    "    try:\n",
    "        x = int(input(\"Please enter a number: \"))\n",
    "        break\n",
    "    except ValueError:\n",
    "            print(\"Invalid Number! Please Enter a Number\")"
   ]
  },
  {
   "cell_type": "markdown",
   "id": "df7863ea",
   "metadata": {},
   "source": [
    "## 4 File Opening Error."
   ]
  },
  {
   "cell_type": "code",
   "execution_count": 9,
   "id": "bad58110",
   "metadata": {},
   "outputs": [
    {
     "name": "stdout",
     "output_type": "stream",
     "text": [
      "Something Went Wrong! Try Again.\n"
     ]
    }
   ],
   "source": [
    "try:\n",
    "    f = open(\"demofile.txt\")\n",
    "    try:\n",
    "        f.write(\"Lorum Ipsum\")\n",
    "    except:\n",
    "        print(\"Something Went Wrong! Try Again.\")\n",
    "    finally:\n",
    "        f.close()\n",
    "except:           \n",
    "        print(\"Something Went Wrong! Try Again.\")"
   ]
  },
  {
   "cell_type": "markdown",
   "id": "2035e219",
   "metadata": {},
   "source": [
    "## 5 Indentation Error."
   ]
  },
  {
   "cell_type": "code",
   "execution_count": 10,
   "id": "62aa270e",
   "metadata": {},
   "outputs": [
    {
     "name": "stdout",
     "output_type": "stream",
     "text": [
      "29\n"
     ]
    }
   ],
   "source": [
    "a = 10\n",
    "try:\n",
    "     b = 19\n",
    "     c = a+b\n",
    "except:\n",
    "    print(\"Indentation Error!\")\n",
    "print(c)"
   ]
  },
  {
   "cell_type": "markdown",
   "id": "3dd239eb",
   "metadata": {},
   "source": [
    "## 6 Name Error."
   ]
  },
  {
   "cell_type": "code",
   "execution_count": 11,
   "id": "a33507c6",
   "metadata": {},
   "outputs": [
    {
     "name": "stdout",
     "output_type": "stream",
     "text": [
      "Variable s is undefined\n"
     ]
    }
   ],
   "source": [
    "try:\n",
    "    print(s)\n",
    "except NameError:\n",
    "    print(\"Variable s is undefined\")\n",
    "except:\n",
    "    print(\"Something else went wrong\")"
   ]
  },
  {
   "cell_type": "markdown",
   "id": "c1f9011f",
   "metadata": {},
   "source": [
    "# REGULAR EXPRESSION IN PYTHON."
   ]
  },
  {
   "cell_type": "markdown",
   "id": "4137eef9",
   "metadata": {},
   "source": [
    "## Findall()"
   ]
  },
  {
   "cell_type": "code",
   "execution_count": 13,
   "id": "2707d69f",
   "metadata": {},
   "outputs": [
    {
     "name": "stdout",
     "output_type": "stream",
     "text": [
      "['av', 'av']\n"
     ]
    }
   ],
   "source": [
    "import re\n",
    "\n",
    "word = \"Save Water Save Future\"\n",
    "x = re.findall(\"av\", word)\n",
    "print(x)"
   ]
  },
  {
   "cell_type": "markdown",
   "id": "160d6a13",
   "metadata": {},
   "source": [
    "## Search()"
   ]
  },
  {
   "cell_type": "code",
   "execution_count": 14,
   "id": "9790d89e",
   "metadata": {},
   "outputs": [
    {
     "name": "stdout",
     "output_type": "stream",
     "text": [
      "The located in position: 5\n"
     ]
    }
   ],
   "source": [
    "import re\n",
    "\n",
    "par = \"Hello Everyone\"\n",
    "x = re.search(\"\\s\", par)\n",
    "\n",
    "print(\"The located in position:\", x.start())"
   ]
  },
  {
   "cell_type": "markdown",
   "id": "19d20d16",
   "metadata": {},
   "source": [
    "## Split()"
   ]
  },
  {
   "cell_type": "code",
   "execution_count": 15,
   "id": "9ed47720",
   "metadata": {},
   "outputs": [
    {
     "name": "stdout",
     "output_type": "stream",
     "text": [
      "['Thank', 'You', 'Everyone']\n"
     ]
    }
   ],
   "source": [
    "import re\n",
    "sen = \"Thank You Everyone\"\n",
    "x = re.split(\"\\s\", sen)\n",
    "print(x)"
   ]
  },
  {
   "cell_type": "markdown",
   "id": "8e4e9385",
   "metadata": {},
   "source": [
    "## Sub()"
   ]
  },
  {
   "cell_type": "code",
   "execution_count": 17,
   "id": "57c9652f",
   "metadata": {},
   "outputs": [
    {
     "name": "stdout",
     "output_type": "stream",
     "text": [
      "Ha-B.tech-AI&DS\n"
     ]
    }
   ],
   "source": [
    "import re\n",
    "part = \"Ha B.tech AI&DS\"\n",
    "x = re.sub(\"\\s\", \"-\", part)\n",
    "print(x)"
   ]
  },
  {
   "cell_type": "markdown",
   "id": "395f1d0f",
   "metadata": {},
   "source": [
    "# AGGREGATE FUNCTIONS IN PYTHON."
   ]
  },
  {
   "cell_type": "code",
   "execution_count": 18,
   "id": "48eca7fe",
   "metadata": {},
   "outputs": [
    {
     "name": "stdout",
     "output_type": "stream",
     "text": [
      "[20 14 45 56 78]\n"
     ]
    }
   ],
   "source": [
    "import numpy as np\n",
    "arr1 = np.array([10,22,37,80,51])\n",
    "arr1\n",
    "b = np.array([20,14,45,56,78])\n",
    "print(b)"
   ]
  },
  {
   "cell_type": "code",
   "execution_count": 19,
   "id": "87aa4d7f",
   "metadata": {},
   "outputs": [
    {
     "data": {
      "text/plain": [
       "array([[10, 20, 30],\n",
       "       [20, 40, 50],\n",
       "       [30, 40, 50]])"
      ]
     },
     "execution_count": 19,
     "metadata": {},
     "output_type": "execute_result"
    }
   ],
   "source": [
    "arr2 = np.array([[10,20,30],[20,40,50],[30,40,50]])\n",
    "arr2"
   ]
  },
  {
   "cell_type": "markdown",
   "id": "08ccb948",
   "metadata": {},
   "source": [
    "## Sum Function."
   ]
  },
  {
   "cell_type": "code",
   "execution_count": 20,
   "id": "c2ce87e6",
   "metadata": {},
   "outputs": [
    {
     "data": {
      "text/plain": [
       "262"
      ]
     },
     "execution_count": 20,
     "metadata": {},
     "output_type": "execute_result"
    }
   ],
   "source": [
    "ar=np.array([42,53,5,6,35,3,2,5,4,54,43,4,6])\n",
    "ar.sum()"
   ]
  },
  {
   "cell_type": "code",
   "execution_count": 21,
   "id": "aead0c11",
   "metadata": {},
   "outputs": [
    {
     "data": {
      "text/plain": [
       "array([12, 15, 18])"
      ]
     },
     "execution_count": 21,
     "metadata": {},
     "output_type": "execute_result"
    }
   ],
   "source": [
    "arr2 = np.array([[1,2,3],[4,5,6],[7,8,9]])\n",
    "arr2.sum(axis = 0)"
   ]
  },
  {
   "cell_type": "code",
   "execution_count": null,
   "id": "696345d5",
   "metadata": {},
   "outputs": [],
   "source": [
    "arr2 = np.array([[1,2,3],[4,5,6],[7,8,9]])\n",
    "arr2.sum(axis = 1)"
   ]
  },
  {
   "cell_type": "markdown",
   "id": "d82871cd",
   "metadata": {},
   "source": [
    "## Porduct Function."
   ]
  },
  {
   "cell_type": "code",
   "execution_count": 22,
   "id": "9b5d67f7",
   "metadata": {},
   "outputs": [
    {
     "data": {
      "text/plain": [
       "120"
      ]
     },
     "execution_count": 22,
     "metadata": {},
     "output_type": "execute_result"
    }
   ],
   "source": [
    "arr1 = np.array([1,2,3,4,5])\n",
    "np.prod(arr1)"
   ]
  },
  {
   "cell_type": "code",
   "execution_count": 23,
   "id": "1aec48ae",
   "metadata": {},
   "outputs": [
    {
     "data": {
      "text/plain": [
       "array([ 28,  80, 162])"
      ]
     },
     "execution_count": 23,
     "metadata": {},
     "output_type": "execute_result"
    }
   ],
   "source": [
    "arr2 = np.array([[1,2,3],[4,5,6],[7,8,9]])\n",
    "np.product(arr2,axis = 0)"
   ]
  },
  {
   "cell_type": "code",
   "execution_count": 24,
   "id": "fbc617b6",
   "metadata": {},
   "outputs": [
    {
     "data": {
      "text/plain": [
       "array([  6, 120, 504])"
      ]
     },
     "execution_count": 24,
     "metadata": {},
     "output_type": "execute_result"
    }
   ],
   "source": [
    "arr2 = np.array([[1,2,3],[4,5,6],[7,8,9]])\n",
    "np.prod(arr2,axis = 1)"
   ]
  },
  {
   "cell_type": "markdown",
   "id": "e90495a2",
   "metadata": {},
   "source": [
    "## Average Function."
   ]
  },
  {
   "cell_type": "code",
   "execution_count": 25,
   "id": "acdfc313",
   "metadata": {},
   "outputs": [
    {
     "data": {
      "text/plain": [
       "3.0"
      ]
     },
     "execution_count": 25,
     "metadata": {},
     "output_type": "execute_result"
    }
   ],
   "source": [
    "arr1 = np.array([1,2,3,4,5])\n",
    "np.average(arr1)"
   ]
  },
  {
   "cell_type": "code",
   "execution_count": 26,
   "id": "a7d832fb",
   "metadata": {},
   "outputs": [
    {
     "data": {
      "text/plain": [
       "array([4., 5., 6.])"
      ]
     },
     "execution_count": 26,
     "metadata": {},
     "output_type": "execute_result"
    }
   ],
   "source": [
    "arr2 = np.array([[1,2,3],[4,5,6],[7,8,9]])\n",
    "np.average(arr2,axis =0)"
   ]
  },
  {
   "cell_type": "markdown",
   "id": "a7b7f039",
   "metadata": {},
   "source": [
    "## Minimum Function."
   ]
  },
  {
   "cell_type": "code",
   "execution_count": 27,
   "id": "5bce31db",
   "metadata": {},
   "outputs": [
    {
     "data": {
      "text/plain": [
       "1"
      ]
     },
     "execution_count": 27,
     "metadata": {},
     "output_type": "execute_result"
    }
   ],
   "source": [
    "arr1 = np.array([1,2,3,4,5])\n",
    "arr1.min()"
   ]
  },
  {
   "cell_type": "code",
   "execution_count": 28,
   "id": "e768e2f6",
   "metadata": {},
   "outputs": [
    {
     "data": {
      "text/plain": [
       "array([1, 2, 3])"
      ]
     },
     "execution_count": 28,
     "metadata": {},
     "output_type": "execute_result"
    }
   ],
   "source": [
    "arr2 = np.array([[1,2,3],[4,5,6],[7,8,9]])\n",
    "arr2.min(axis = 0)"
   ]
  },
  {
   "cell_type": "code",
   "execution_count": 29,
   "id": "b2b3ed23",
   "metadata": {},
   "outputs": [
    {
     "data": {
      "text/plain": [
       "array([1, 4, 7])"
      ]
     },
     "execution_count": 29,
     "metadata": {},
     "output_type": "execute_result"
    }
   ],
   "source": [
    "arr2 = np.array([[1,2,3],[4,5,6],[7,8,9]])\n",
    "arr2.min(axis = 1)"
   ]
  },
  {
   "cell_type": "code",
   "execution_count": 30,
   "id": "dfd324e4",
   "metadata": {},
   "outputs": [
    {
     "name": "stdout",
     "output_type": "stream",
     "text": [
      "[[5 1 2 7]\n",
      " [2 3 9 6]\n",
      " [9 4 1 1]\n",
      " [6 9 8 9]]\n",
      "\n",
      "[[7 2 2 7]\n",
      " [4 4 8 7]\n",
      " [8 5 8 4]\n",
      " [1 2 7 1]]\n",
      "\n",
      "Minimum Array\n",
      "[[5 1 2 7]\n",
      " [2 3 8 6]\n",
      " [8 4 1 1]\n",
      " [1 2 7 1]]\n"
     ]
    }
   ],
   "source": [
    "import numpy as np\n",
    "x = np.random.randint(1, 10, size = (4,4))\n",
    "print(x)\n",
    "print()\n",
    " \n",
    "y = np.random.randint(1, 10, size = (4,4))\n",
    "print(y)\n",
    " \n",
    "print('\\nMinimum Array')\n",
    "print(np.minimum(x, y))"
   ]
  },
  {
   "cell_type": "code",
   "execution_count": 31,
   "id": "ead39c94",
   "metadata": {},
   "outputs": [
    {
     "name": "stdout",
     "output_type": "stream",
     "text": [
      "[[8 5 1 2]\n",
      " [5 7 4 8]\n",
      " [3 5 4 9]\n",
      " [6 1 1 5]]\n",
      "\n",
      "[[1 4 4 3]\n",
      " [5 8 2 2]\n",
      " [1 7 1 2]\n",
      " [1 9 5 7]]\n",
      "\n",
      "Maximum Matrix:\n",
      "[[8 5 4 3]\n",
      " [5 8 4 8]\n",
      " [3 7 4 9]\n",
      " [6 9 5 7]]\n"
     ]
    }
   ],
   "source": [
    "import numpy as np\n",
    "x = np.random.randint(1, 10, size = (4,4))\n",
    "print(x)\n",
    "print()\n",
    " \n",
    "y = np.random.randint(1, 10, size = (4,4))\n",
    "print(y)\n",
    " \n",
    "print('\\nMaximum Matrix:')\n",
    "print(np.maximum(x, y))"
   ]
  },
  {
   "cell_type": "markdown",
   "id": "b6414d35",
   "metadata": {},
   "source": [
    "## Mean Function."
   ]
  },
  {
   "cell_type": "code",
   "execution_count": 32,
   "id": "2d6c1957",
   "metadata": {},
   "outputs": [
    {
     "data": {
      "text/plain": [
       "3.0"
      ]
     },
     "execution_count": 32,
     "metadata": {},
     "output_type": "execute_result"
    }
   ],
   "source": [
    "arr1 = np.array([1,2,3,4,5])\n",
    "np.mean(arr1)"
   ]
  },
  {
   "cell_type": "code",
   "execution_count": 33,
   "id": "315f7d86",
   "metadata": {},
   "outputs": [
    {
     "data": {
      "text/plain": [
       "5.0"
      ]
     },
     "execution_count": 33,
     "metadata": {},
     "output_type": "execute_result"
    }
   ],
   "source": [
    "arr2 = np.array([[1,2,3],[4,5,6],[7,8,9]])\n",
    "np.mean(arr2)"
   ]
  },
  {
   "cell_type": "markdown",
   "id": "1a2f1c3d",
   "metadata": {},
   "source": [
    "## Median Function."
   ]
  },
  {
   "cell_type": "code",
   "execution_count": 34,
   "id": "3f8ffa69",
   "metadata": {},
   "outputs": [
    {
     "data": {
      "text/plain": [
       "3.0"
      ]
     },
     "execution_count": 34,
     "metadata": {},
     "output_type": "execute_result"
    }
   ],
   "source": [
    "arr1 = np.array([1,2,3,4,5])\n",
    "np.median(arr1)"
   ]
  },
  {
   "cell_type": "code",
   "execution_count": 35,
   "id": "e5c2a7ce",
   "metadata": {},
   "outputs": [
    {
     "data": {
      "text/plain": [
       "5.0"
      ]
     },
     "execution_count": 35,
     "metadata": {},
     "output_type": "execute_result"
    }
   ],
   "source": [
    "arr2 = np.array([[1,2,3],[4,5,6],[7,8,9]])\n",
    "np.median(arr2)"
   ]
  },
  {
   "cell_type": "code",
   "execution_count": 36,
   "id": "fbe09923",
   "metadata": {},
   "outputs": [
    {
     "data": {
      "text/plain": [
       "array([4., 5., 6.])"
      ]
     },
     "execution_count": 36,
     "metadata": {},
     "output_type": "execute_result"
    }
   ],
   "source": [
    "arr2 = np.array([[1,2,3],[4,5,6],[7,8,9]])\n",
    "np.median(arr2, axis = 0)"
   ]
  },
  {
   "cell_type": "code",
   "execution_count": 37,
   "id": "db1ecf62",
   "metadata": {},
   "outputs": [
    {
     "data": {
      "text/plain": [
       "array([2., 5., 8.])"
      ]
     },
     "execution_count": 37,
     "metadata": {},
     "output_type": "execute_result"
    }
   ],
   "source": [
    "arr2 = np.array([[1,2,3],[4,5,6],[7,8,9]])\n",
    "np.median(arr2, axis = 1)"
   ]
  },
  {
   "cell_type": "code",
   "execution_count": null,
   "id": "36e11321",
   "metadata": {},
   "outputs": [],
   "source": []
  },
  {
   "cell_type": "code",
   "execution_count": null,
   "id": "1701c27f",
   "metadata": {},
   "outputs": [],
   "source": []
  },
  {
   "cell_type": "code",
   "execution_count": null,
   "id": "67bccdae",
   "metadata": {},
   "outputs": [],
   "source": []
  },
  {
   "cell_type": "code",
   "execution_count": null,
   "id": "d11660b3",
   "metadata": {},
   "outputs": [],
   "source": []
  },
  {
   "cell_type": "code",
   "execution_count": null,
   "id": "6cfffbcd",
   "metadata": {},
   "outputs": [],
   "source": []
  },
  {
   "cell_type": "code",
   "execution_count": null,
   "id": "630c2355",
   "metadata": {},
   "outputs": [],
   "source": []
  },
  {
   "cell_type": "code",
   "execution_count": null,
   "id": "44e2eeb9",
   "metadata": {},
   "outputs": [],
   "source": []
  },
  {
   "cell_type": "code",
   "execution_count": null,
   "id": "da9412a2",
   "metadata": {},
   "outputs": [],
   "source": []
  },
  {
   "cell_type": "code",
   "execution_count": null,
   "id": "5304bc8d",
   "metadata": {},
   "outputs": [],
   "source": []
  },
  {
   "cell_type": "code",
   "execution_count": null,
   "id": "493f7ac5",
   "metadata": {},
   "outputs": [],
   "source": []
  },
  {
   "cell_type": "code",
   "execution_count": null,
   "id": "3e01c865",
   "metadata": {},
   "outputs": [],
   "source": []
  },
  {
   "cell_type": "code",
   "execution_count": null,
   "id": "d2a36f7f",
   "metadata": {},
   "outputs": [],
   "source": []
  },
  {
   "cell_type": "code",
   "execution_count": null,
   "id": "d7399231",
   "metadata": {},
   "outputs": [],
   "source": []
  },
  {
   "cell_type": "code",
   "execution_count": null,
   "id": "d9904cd4",
   "metadata": {},
   "outputs": [],
   "source": []
  },
  {
   "cell_type": "code",
   "execution_count": null,
   "id": "451caca6",
   "metadata": {},
   "outputs": [],
   "source": []
  },
  {
   "cell_type": "code",
   "execution_count": null,
   "id": "884c905a",
   "metadata": {},
   "outputs": [],
   "source": []
  },
  {
   "cell_type": "code",
   "execution_count": null,
   "id": "3e66f395",
   "metadata": {},
   "outputs": [],
   "source": []
  },
  {
   "cell_type": "code",
   "execution_count": null,
   "id": "59cb3a89",
   "metadata": {},
   "outputs": [],
   "source": []
  },
  {
   "cell_type": "code",
   "execution_count": null,
   "id": "487149f8",
   "metadata": {},
   "outputs": [],
   "source": []
  },
  {
   "cell_type": "code",
   "execution_count": null,
   "id": "7242e6a5",
   "metadata": {},
   "outputs": [],
   "source": []
  },
  {
   "cell_type": "code",
   "execution_count": null,
   "id": "6a921d9d",
   "metadata": {},
   "outputs": [],
   "source": []
  },
  {
   "cell_type": "code",
   "execution_count": null,
   "id": "9acc6126",
   "metadata": {},
   "outputs": [],
   "source": []
  }
 ],
 "metadata": {
  "kernelspec": {
   "display_name": "Python 3 (ipykernel)",
   "language": "python",
   "name": "python3"
  },
  "language_info": {
   "codemirror_mode": {
    "name": "ipython",
    "version": 3
   },
   "file_extension": ".py",
   "mimetype": "text/x-python",
   "name": "python",
   "nbconvert_exporter": "python",
   "pygments_lexer": "ipython3",
   "version": "3.9.12"
  }
 },
 "nbformat": 4,
 "nbformat_minor": 5
}
